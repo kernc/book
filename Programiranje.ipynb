{
 "metadata": {
  "name": ""
 },
 "nbformat": 3,
 "nbformat_minor": 0,
 "worksheets": [
  {
   "cells": [
    {
     "cell_type": "heading",
     "level": 1,
     "metadata": {},
     "source": [
      "Programiranje"
     ]
    },
    {
     "cell_type": "heading",
     "level": 2,
     "metadata": {},
     "source": [
      "Kaj je ra\u010dunalnik?"
     ]
    },
    {
     "cell_type": "markdown",
     "metadata": {},
     "source": [
      "Ljudje vsak dan uporabljamo ra\u010dunalnike za najrazli\u010dnej\u0161a opravila, redkokdo pa ve, kaj ra\u010dunalnik je in kako ra\u010dunalnik pravzaprav deluje.\n",
      "\n",
      "Ra\u010dunalnik je **naprava, ki lahko izra\u010duna vse, kar se da izra\u010dunati** (namre\u010d, kot bomo videli kasneje, vsega se ne da izra\u010dunati). V tem pogledu je ra\u010dunalnik vsaka naprava, ki je ekvivalentna teoreti\u010dnemu [Turingovemu stroju](https://youtu.be/ioWwg3QbSHU).\n",
      "\n",
      "Dana\u0161nji ra\u010dunalniki, pa naj bodo namizni, prenosni ali mobilni, ki jih nosimo v \u017eepu, vsi temeljijo na t.i. _von-Neumanovi arhitekturi_. To pomeni, da so sestavljeni iz treh glavnih elementov:\n",
      "- centralne procesne enote (angl. _CPU_),\n",
      "- pomnilnika z naklju\u010dnim dostopom (angl. _RAM_), in\n",
      "- vhodno-izhodnih naprav (angl. _I/O_).\n",
      "\n",
      "Na ra\u010dunalnikih je pogosto name\u0161\u010den tudi nek _operacijski sistem_, ki je na\u0161 uporabni\u0161ki vmesnik za delo z ra\u010dunalnikom. Med bolj znane operacijske sisteme sodijo Microsoft Windows, Mac OS X, Android, ter mnoge distribucije GNU/Linux sistema, npr. Ubuntu, Debian, Red Hat ipd."
     ]
    },
    {
     "cell_type": "heading",
     "level": 3,
     "metadata": {},
     "source": [
      "Centralna procesna enota"
     ]
    },
    {
     "cell_type": "markdown",
     "metadata": {},
     "source": [
      "_Centralna procesna enota_ (angl. _CPU_) ali **procesor je glavni del ra\u010dunalnika**. Je \u010dip, ki ga konceptualno delimo na dva dela:\n",
      "- **kontrolno enoto**, ki vsebuje registre (majhe prostor\u010dke za kratkotrajno hranjenje vrednosti), medpomnilnik in vso potrebno logiko, da procesor v povezavi s pomnilnikom ter ostalimi napravami deluje v taktu in pravilno,\n",
      "- **aritmeti\u010dno-logi\u010dno enoto**, ki nad registri izvaja ra\u010dunske operacije (se\u0161tevanje, od\u0161tevanje, mno\u017eenje, deljenje, ...).\n",
      "\n",
      "![ra\u010dunalni\u0161ki procesor](files/CPU.jpg)\n",
      "\n",
      "Procesor izvr\u0161uje le zelo preproste ukaze strojne kode:\n",
      "- **preberi** vrednost s pomnilni\u0161kega naslova X v register Y,\n",
      "- **zapi\u0161i** vrednost iz registra X v pomnilni\u0161ki naslov Y,\n",
      "- zapi\u0161i vrednost N v register X,\n",
      "- zapi\u0161i vrednost iz registra X v register Y,\n",
      "- **izvedi preprosto operacijo** (se\u0161tevanje/od\u0161tevanje/mno\u017eenje/deljenje) nad vrednostima v registrih X in Y ter shrani rezultat v register Z, ipd.\n",
      "\n",
      "Procesor izvaja programe, ki sestojijo iz takih preprostih ukazov. Izvede na stotine milijard takih preprostih ukazov na sekundo.\n",
      "\n",
      "V\u010dasih CPU vsebuje \u0161e kak\u0161no drugo enoto, npr. _FPU_ enoto za ra\u010dunanje s \u0161tevili s plavajo\u010do vejico, kakor ra\u010dunalni\u0161ko pravimo racionalnim \u0161tevilom (to so tista, ki jih lahko zapi\u0161emo z decimalno vejico, npr. 3,1415926), dandana\u0161nji celo _GPU_ optimiziran za delo z grafiko (namesto lo\u010dene grafi\u010dne kartice), ipd.\n",
      "\n",
      "Procesor v registre bere vrednosti iz ..."
     ]
    },
    {
     "cell_type": "heading",
     "level": 3,
     "metadata": {},
     "source": [
      "Pomnilnik z naklju\u010dnim dostopom"
     ]
    },
    {
     "cell_type": "markdown",
     "metadata": {},
     "source": [
      "_Delovni pomnilnik_ ali _primarni pomnilnik_ ali _pomnilnik z naklju\u010dnim dostopom_ (angl. _RAM_) je del ra\u010dunalnika, kjer se shranjujejo vsi podatki, s katerimi ra\u010dunalnik trenutno operira. \n",
      "\n",
      "Pomnilnik si lahko predstavljamo kot **dolg trak s prostor\u010dki, v katere lahko shranjujemo vrednosti** (\u0161tevila od 0 do 255), in **vsak od prostor\u010dkov ima svoj unikaten naslov**.\n",
      "\n",
      "Naslov       | 0 | 1 | 2 | 3 | 4 | ... | 1048574 | 1048575 | 1048576 | ...\n",
      "--- | --- | ---\n",
      "**Vrednost** | 0 | 0 | 1 | 7 | 0 | ... | 2 | 7 | 0 | ...\n",
      "\n",
      "Ko za\u017eenemo nek program, ki ga imamo shranjenega nekje na disku (npr. spletni brskalnik, name\u0161\u010den v `C:\\Program Files\\Mozilla\\Firefox\\firefox.exe`), ga operacijski sistem najprej nalo\u017ei (prekopira) v delovni pomnilnik, \u0161ele nato ga iz tam za\u010dne izvajati. Ko program operira z nekimi podatki (npr. brskalnik prikazuje besedila in slike), so ti podatki vedno prisotni najmanj v delovnem pomnilniku!\n",
      "\n",
      "Pomnilnik je zelo hiter. Vendar pa njegova velikost ni neomejena in podatki v delovnem pomnilniku niso trajni. \u010ce ra\u010dunalnik popolnoma izklopimo, te podatke v pomnilniku izgubimo. Zato potrebujemo ..."
     ]
    },
    {
     "cell_type": "heading",
     "level": 3,
     "metadata": {},
     "source": [
      "Vhodno-izhodne naprave"
     ]
    },
    {
     "cell_type": "markdown",
     "metadata": {},
     "source": [
      "_Vhodno-izhodne_ (angl. _I/O_) ali _periferne naprave_ so vse ostale naprave priklju\u010dene na ra\u010dunalnik, ki **omogo\u010dajo ali raz\u0161irjajo interakcijo med ljudmi in ra\u010dunalniki** ali med ra\u010dunalniki med sabo. Med I/O naprave, s katerimi se najve\u010d sre\u010dujemo, sodijo ra\u010dunalni\u0161ka mi\u0161ka (ali _touchpad_ na prenosnikih, _touchscreen_ na pametnih telefonih in tablicah), tipkovnica, zaslon, tiskalnik, DVD \u010ditalnik. Veliko perifernih naprav pa je tudi bolj skritih: trdi disk, grafi\u010dna kartica (vsebuje procesor, prilagojen za ra\u010dunanje barve posamezne pike (angl. _pixel_) na zaslonu), omre\u017eni vmesnik (ki omogo\u010da povezljivost ra\u010dunalnika v lokalno ali v internetno omre\u017eje), USB kontroler (nadzoruje USB vhode), razne raz\u0161iritvene kartice (npr. taka, ki omogo\u010di priklop ve\u010d USB naprav) ipd.\n",
      "\n",
      "Periferne naprave krmili procesor, tako da vpisuje vrednosti na za-to preddolo\u010dene naslove v pomnilniku. \u010ce \u017eelimo npr. prekopirati neko datoteko (npr. eno sliko z morja) iz ene mape na disku v drugo, lahko to procesor naredi tako, da najprej prebere vrednost iz diska in jo vpi\u0161e na nov naslov, prebere naslednjo vrednost in jo vpi\u0161e na naslednji naslov, itd. Ko premaknemo mi\u0161ko, mora procesor najmanj:\n",
      "1. prebrati vrednost iz rezerviranega naslova v pomnilniku, kjer mi\u0161ka sporo\u010da fizi\u010dno spremembo polo\u017eaja,\n",
      "2. prera\u010dunati to vrednost v koordinate (lokacijo) ikone mi\u0161ke na zaslonu,\n",
      "3. vpisati novo lokacijo mi\u0161ke v drug, za grafi\u010dno kartico rezerviran naslov, da bo sprememba vidna ob naslednjem [utripu zaslona](https://www.youtube.com/watch?v=lRidfW_l4vs)."
     ]
    },
    {
     "cell_type": "heading",
     "level": 4,
     "metadata": {},
     "source": [
      "Trdi disk"
     ]
    },
    {
     "cell_type": "markdown",
     "metadata": {},
     "source": [
      "_Trdi disk_ ali _HDD_ je ena najpomembnej\u0161ih vhodno-izhodnih naprav. Iz trdega diska se (obi\u010dajno) v pomnilnik nalo\u017ei operacijski sistem; iz trdega diska se v pomnilnik prebirajo vrednosti datotek; na trdi disk shranjujemo podatke (npr. slike z morja ali video vsebine z interneta); ...\n",
      "\n",
      "Tako kot pomnilnik **si tudi trdi tisk lahko predstavljamo kot zaporedje naslovljivih prostor\u010dkov**, dolg seznam vrednosti. Dana\u0161nji trdi diski so velikosti preko tiso\u010d milijard prostor\u010dkov (za \u0161tevilske vrednosti med 0 in 255), tj. 1.000.000.000.000 bajtov = 1 [terabajt](http://sl.wikipedia.org/wiki/Bajt), torej je njihova velikost tiso\u010dkrat ve\u010dja od velikosti dana\u0161njih pomnilnikov."
     ]
    },
    {
     "cell_type": "heading",
     "level": 2,
     "metadata": {},
     "source": [
      "Povezova CPU\u2013RAM\u2013IO"
     ]
    },
    {
     "cell_type": "markdown",
     "metadata": {},
     "source": [
      "Ko za\u017eenemo nek program, ki ga imamo shranjenega nekje na disku (npr. spletni brskalnik, name\u0161\u010den v `C:\\Program Files\\Mozilla\\Firefox\\firefox.exe`), ga operacijski sistem najprej nalo\u017ei (prekopira) v delovni pomnilnik, \u0161ele nato ga iz tam za\u010dne izvajati. Okvirni ukazi na nivoju procesorja so:\n",
      "1. vpi\u0161i na pomnilni\u0161ki naslov, rezerviran za komunikacijo s trdim diskom, naslednje navodilo: _\"preberi N bajtov podatkov iz naslova A1 na disku na naslov A2 v pomnilniku\"_,\n",
      "\n",
      "   (\u010ce strojna oprema dopu\u0161\u010da neposredni dostop do pomnilka, angl. _DMA_, lahko CPU med prenosom HDD\u2192RAM po\u010dne kaj drugega, npr. osve\u017ei kak drug program, ki se trenutno izvaja. V nasprotnem primeru pa mora procesor na ustrezne naslove sam skopirati vsak bajt posebej.)\n",
      "\n",
      "2. postavi programski \u0161tevec, ki hrani naslov trenutnega ukaza v programu, na za\u010detek programa (`PC = N + 0`),\n",
      "3. izvedi strojni ukaz na tem naslovu,\n",
      "4. pove\u010daj vrednost programskega \u0161tevca za 1 (`PC = PC + 1`),\n",
      "5. \u010de ni konec programa, se vrni na 3. korak."
     ]
    },
    {
     "cell_type": "heading",
     "level": 2,
     "metadata": {},
     "source": [
      "Kaj je programiranje?"
     ]
    },
    {
     "cell_type": "markdown",
     "metadata": {},
     "source": [
      "[Kot re\u010deno](#Centralna-procesna-enota), procesor samo izvaja programe. Tudi ob najbolj kompleksno-izgledajo\u010dih programih procesor izvaja [le preproste ukaze](#Centralna-procesna-enota). In izvaja jih zapovrstno, ukaz za ukazom. **Programiranje je torej ukazovanje procesorju**, kaj naj ra\u010duna.\n",
      "\n",
      "Ampak je programiranje tudi ve\u010d kot to.\n",
      "\n",
      "Programiranje je **poznavanje tehnik in metod re\u0161evanja problemov**, razvijanje algoritmi\u010dnega na\u010dina razmi\u0161ljanja, zmo\u017enost **razgrajevanja problemov na manj\u0161e (pod)probleme**, spoznavaje omejitev ra\u010dunalnikov in njihovega vpliva na dru\u017ebo. V programiranju je zajeta inteligentnost, ustvarjalnost, sodelovanje in timsko delo.\n",
      "\n",
      "Programiranje vklju\u010duje znanja, spretnosti in ve\u0161\u010dine, ki so veliko bolj trajni kot hitro razvijajo\u010de se tehnologije. In ta znanja so neodvisna od posameznih tehnologij, so prenosljiva ter **uporabna na vseh podro\u010djih \u010dlove\u0161kih dejavnosti**. U\u010dencem programiranja bodo koristila tudi pri drugih predmetih in v poznej\u0161em \u017eivljenju. Ta znanja, spretnosti in ve\u0161\u010dine so del digitalne pismenosti v 21. stoletju."
     ]
    },
    {
     "cell_type": "heading",
     "level": 3,
     "metadata": {},
     "source": [
      "Kaj je algoritem?"
     ]
    },
    {
     "cell_type": "markdown",
     "metadata": {},
     "source": [
      "Po definiciji je algoritem nek proces oz. **zaporedje ukazov, ki jih je potrebno izvesti v kalkulacijah za re\u0161itev dolo\u010denega problema**. Algoritem je torej postopek, na\u010drt izvedbe, tako kot je to pri kuhanju recept. Za razliko od kuhe pa za algoritme velja, da pri istih vhodnih podatkih vedno dobimo isto izhodno re\u0161itev.\n",
      "\n",
      "Vsak algoritem je natan\u010dno definiran, ko ima:\n",
      "- nata\u010dno opredeljene vhodne podatke (tj. podatke, za katere je predpostavljeno, da so vnaprej znani, ki jih algoritem dobi in s katerimi operira),\n",
      "- telo algoritma, ki ga tvorijo ukazi, ki jih je dolo\u010dil programer,\n",
      "- natan\u010dno opredeljene izhodne podatke ali vrsto re\u0161itve.\n",
      "\n",
      "Primer algoritma je iskanje najkraj\u0161e poti med dvema krajema, npr. med Ljubljano in vasjo Vinica:\n",
      "\n",
      "Algoritem | iskanje_najkrajse_poti_med_dvemi_kraji\n",
      "--- | ---\n",
      "**Vhodni podatki** | Seznam vseh povezav med kraji, kjer vsako povezavo opisuje troje vrednosti, `(krajA, krajB, razdaljaAB)`, kar pomeni, da je 'krajA' povezan s 'krajB' (in obratno) ter kak\u0161na je razdalja med njima v kilometrih, npr. `[('Ljubljana', 'Brezovica pri Ljubljani', 8.3), ('Ljubljana', 'Lavrica', 9.4), ..., ('Drenovec', 'Vinica', 0.9), ..., ('Novo mesto', 'Mala Cikava', 2.9)]` \u2014 dolg seznam!\n",
      "**Telo algoritma** | ... (Spi\u0161e programer. Tu bomo za za\u010detek izpustili.)\n",
      "**Izhodni podatki** | Urejen seznam povezav med kraji od Ljubljane do Vinice `[('Ljubljana', K2, R1), (K2, K3, R2), ..., (KN, 'Vinica', RN)]`, tako da je vsota razdalj najmanj\u0161a mo\u017ena (K2, R1, K3, R2, ..., KN in RN so za razliko od tega primera v resnici prave, dolo\u010dene vrednosti).\n",
      "\n",
      "Algoritem za iskanje najkraj\u0161ih poti med kraji, ki bi upo\u0161teval \u0161e stanje posameznih cest, vi\u0161inske razlike in morebitne \u017eelene dolo\u010dene vmesne postaje, bi bil toliko bolj kompleksen."
     ]
    },
    {
     "cell_type": "heading",
     "level": 2,
     "metadata": {},
     "source": [
      "Kaj je programski jezik?"
     ]
    },
    {
     "cell_type": "heading",
     "level": 3,
     "metadata": {},
     "source": [
      "Prevedeni programski jeziki"
     ]
    },
    {
     "cell_type": "heading",
     "level": 3,
     "metadata": {},
     "source": [
      "Interpretirani (skriptni) jeziki"
     ]
    },
    {
     "cell_type": "heading",
     "level": 1,
     "metadata": {},
     "source": [
      "Programski jezik Python"
     ]
    },
    {
     "cell_type": "heading",
     "level": 2,
     "metadata": {},
     "source": [
      "Namestitev Python interpreterja"
     ]
    },
    {
     "cell_type": "heading",
     "level": 3,
     "metadata": {},
     "source": [
      "GNU/Linux"
     ]
    },
    {
     "cell_type": "heading",
     "level": 3,
     "metadata": {},
     "source": [
      "Windows"
     ]
    },
    {
     "cell_type": "heading",
     "level": 3,
     "metadata": {},
     "source": [
      "OS X"
     ]
    },
    {
     "cell_type": "heading",
     "level": 2,
     "metadata": {},
     "source": [
      "IPython in IPython Notebook"
     ]
    },
    {
     "cell_type": "markdown",
     "metadata": {},
     "source": []
    }
   ],
   "metadata": {}
  }
 ]
}