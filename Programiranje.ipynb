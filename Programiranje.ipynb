{
 "metadata": {
  "name": ""
 },
 "nbformat": 3,
 "nbformat_minor": 0,
 "worksheets": [
  {
   "cells": [
    {
     "cell_type": "markdown",
     "metadata": {},
     "source": [
      "<h1 id=\"tocheading\">Kazalo</h1>\n",
      "<div id=\"toc\"></div>\n",
      "<script src=\"http://kmahelona.github.io/ipython_notebook_goodies/ipython_notebook_toc.js\"></script>"
     ]
    },
    {
     "cell_type": "heading",
     "level": 1,
     "metadata": {},
     "source": [
      "Kaj je ra\u010dunalnik?"
     ]
    },
    {
     "cell_type": "markdown",
     "metadata": {},
     "source": [
      "Ljudje vsak dan uporabljamo ra\u010dunalnike za najrazli\u010dnej\u0161a opravila, redkokdo pa ve, kaj ra\u010dunalnik je in kako ra\u010dunalnik pravzaprav deluje.\n",
      "\n",
      "Ra\u010dunalnik je **naprava, ki lahko izra\u010duna vse, kar se da izra\u010dunati** (namre\u010d, kot bomo videli kasneje, vsega se ne da izra\u010dunati). V tem pogledu je ra\u010dunalnik vsaka naprava, ki je enakovredna teoreti\u010dnemu [Turingovemu stroju](https://youtu.be/ioWwg3QbSHU).\n",
      "\n",
      "Dana\u0161nji ra\u010dunalniki, pa naj bodo namizni, prenosni ali mobilni, ki jih nosimo v \u017eepu, vsi temeljijo na t.i. _[Von Neumanovi arhitekturi](https://www.google.com/search?tbm=isch&q=von+neumann+architecture)_, kar pomeni, da so sestavljeni iz treh glavnih elementov:\n",
      "- centralne procesne enote (angle\u0161ko _CPU_),\n",
      "- pomnilnika z naklju\u010dnim dostopom (angl. _RAM_), in\n",
      "- vhodno-izhodnih naprav (angl. _I/O_).\n",
      "\n",
      "Na ra\u010dunalnikih je pogosto name\u0161\u010den tudi nek _operacijski sistem_, ki je na\u0161 _uporabni\u0161ki vmesnik_ za delo z ra\u010dunalnikom. Med bolj znane operacijske sisteme sodijo Microsoft Windows, Mac OS X, Android, ter mnoge razli\u010dice (re\u010demo jim distribucije) GNU/Linux sistema, npr. Ubuntu, Debian, Red Hat ipd."
     ]
    },
    {
     "cell_type": "heading",
     "level": 2,
     "metadata": {},
     "source": [
      "Centralna procesna enota"
     ]
    },
    {
     "cell_type": "markdown",
     "metadata": {},
     "source": [
      "_Centralna procesna enota_ (angl. _CPU_) ali **procesor je glavni del ra\u010dunalnika**. Je \u010dip, ki ga konceptualno delimo na dva dela:\n",
      "- **kontrolno enoto**, ki vsebuje registre (majhe prostor\u010dke za kratkotrajno hranjenje vrednosti), medpomnilnik in vso potrebno logiko, da procesor v povezavi s pomnilnikom ter ostalimi napravami deluje v taktu in pravilno,\n",
      "- **aritmeti\u010dno-logi\u010dno enoto**, ki nad registri izvaja ra\u010dunske operacije (se\u0161tevanje, od\u0161tevanje, mno\u017eenje, deljenje, ...).\n",
      "\n",
      "![ra\u010dunalni\u0161ki procesor](files/CPU.jpg)\n",
      "\n",
      "Procesor izvr\u0161uje le zelo preproste ukaze strojne kode (Rn, An, N, ... so poljubni):\n",
      "- **preberi** vrednost s pomnilni\u0161kega naslova An v register Rn,\n",
      "- **zapi\u0161i** vrednost iz registra Rn v pomnilni\u0161ki naslov An,\n",
      "- zapi\u0161i \u0161tevilsko vrednost N v register Rn,\n",
      "- zapi\u0161i vrednost iz registra Rn v register Rm,\n",
      "- **izvedi preprosto operacijo** (se\u0161tevanje/od\u0161tevanje/mno\u017eenje/deljenje) nad vrednostima v registrih Rn in Rm ter shrani rezultat v register Rs, ipd.\n",
      "\n",
      "Procesor izvaja programe, ki sestojijo iz takih preprostih ukazov. Izvede na stotine milijard takih preprostih ukazov na sekundo. To je vse, kar po\u010dne.\n",
      "\n",
      "V\u010dasih CPU vsebuje \u0161e kak\u0161no drugo enoto, npr. _FPU_ enoto za ra\u010dunanje s \u0161tevili s plavajo\u010do vejico, kakor ra\u010dunalni\u0161ko pravimo racionalnim \u0161tevilom (to so tista, ki jih lahko zapi\u0161emo z decimalno vejico, npr. 3,1415926), dandana\u0161nji celo _GPU_ optimiziran za delo z grafiko (namesto lo\u010dene grafi\u010dne kartice) ipd.\n",
      "\n",
      "Procesor v registre bere vrednosti iz pomnilnika ..."
     ]
    },
    {
     "cell_type": "heading",
     "level": 2,
     "metadata": {},
     "source": [
      "Pomnilnik z naklju\u010dnim dostopom"
     ]
    },
    {
     "cell_type": "markdown",
     "metadata": {},
     "source": [
      "_Delovni pomnilnik_ ali _primarni pomnilnik_ ali _pomnilnik z naklju\u010dnim dostopom_ (angl. _RAM_) je del ra\u010dunalnika, kjer se shranjujejo vsi podatki, s katerimi ra\u010dunalnik trenutno operira. \n",
      "\n",
      "Pomnilnik si lahko predstavljamo kot **dolg trak s prostor\u010dki, v katere lahko shranjujemo vrednosti** (\u0161tevila od 0 do 255), in **vsak od prostor\u010dkov ima svoj unikaten naslov**.\n",
      "\n",
      "Naslov       | 0 | 1 | 2 | 3 | 4 | ... | 1048574 | 1048575 | 1048576 | ...\n",
      "--- | --- | ---\n",
      "**Vrednost** | 0 | 0 | 65 | 10 | 0 | ... | 12 | 127 | 0 | ...\n",
      "\n",
      "Ko za\u017eenemo nek program, ki ga imamo shranjenega nekje na disku (npr. spletni brskalnik, name\u0161\u010den v `C:\\Program Files\\Mozilla\\Firefox\\firefox.exe`), ga operacijski sistem najprej nalo\u017ei (prekopira) v delovni pomnilnik, \u0161ele nato ga iz tam za\u010dne izvajati. Ko program operira z nekimi podatki (npr. brskalnik prikazuje besedila in slike), so ti podatki vedno prisotni najmanj v delovnem pomnilniku!\n",
      "\n",
      "Pomnilnik je zelo hiter. Vendar pa njegova velikost ni neomejena in podatki v delovnem pomnilniku niso trajni. \u010ce ra\u010dunalnik popolnoma izklopimo, te podatke v pomnilniku izgubimo. Zato potrebujemo ..."
     ]
    },
    {
     "cell_type": "heading",
     "level": 2,
     "metadata": {},
     "source": [
      "Vhodno-izhodne naprave"
     ]
    },
    {
     "cell_type": "markdown",
     "metadata": {},
     "source": [
      "_Vhodno-izhodne_ (angl. _I/O_) ali _periferne naprave_ so vse ostale naprave priklju\u010dene na ra\u010dunalnik, ki **omogo\u010dajo ali raz\u0161irjajo interakcijo med ljudmi in ra\u010dunalniki** ali med ra\u010dunalniki med sabo. Med I/O naprave, s katerimi se najve\u010d sre\u010dujemo, sodijo ra\u010dunalni\u0161ka mi\u0161ka (ali _touchpad_ na prenosnikih, _touchscreen_ na pametnih telefonih in tablicah), tipkovnica, zaslon, tiskalnik, DVD \u010ditalnik. Veliko perifernih naprav pa je tudi bolj skritih: trdi disk, grafi\u010dna kartica (vsebuje procesor, prilagojen za ra\u010dunanje barve posamezne pike (angl. _pixel_) na zaslonu), omre\u017eni vmesnik (ki omogo\u010da povezljivost ra\u010dunalnika v lokalno ali v internetno omre\u017eje), USB kontroler (nadzoruje USB vhode), razne raz\u0161iritvene kartice (npr. taka, ki omogo\u010di priklop ve\u010d USB naprav) ipd.\n",
      "\n",
      "Periferne naprave krmili procesor, tako da vpisuje vrednosti na za to preddolo\u010dene naslove v pomnilniku. \u010ce \u017eelimo npr. prekopirati neko datoteko (npr. eno sliko z morja) iz ene mape na disku v drugo, lahko to procesor naredi tako, da najprej prebere vrednost iz diska in jo vpi\u0161e na nov naslov, prebere naslednjo vrednost in jo vpi\u0161e na naslednji naslov, itd. Ko premaknemo mi\u0161ko, mora procesor najmanj:\n",
      "1. prebrati vrednost iz rezerviranega naslova v pomnilniku, kjer mi\u0161ka sporo\u010da fizi\u010dno spremembo polo\u017eaja,\n",
      "2. prera\u010dunati to vrednost v koordinate (lokacijo) ikone mi\u0161ke na zaslonu,\n",
      "3. vpisati novo lokacijo mi\u0161ke v drug, za grafi\u010dno kartico rezerviran naslov, da bo sprememba vidna ob naslednjem [utripu zaslona](https://www.youtube.com/watch?v=lRidfW_l4vs)."
     ]
    },
    {
     "cell_type": "heading",
     "level": 3,
     "metadata": {},
     "source": [
      "Trdi disk"
     ]
    },
    {
     "cell_type": "markdown",
     "metadata": {},
     "source": [
      "_Trdi disk_ ali _HDD_ je ena najpomembnej\u0161ih vhodno-izhodnih naprav. Iz trdega diska se (obi\u010dajno) v pomnilnik nalo\u017ei operacijski sistem; s trdega diska se v pomnilnik prebirajo vrednosti datotek; na trdi disk shranjujemo podatke (npr. slike z morja ali video vsebine z interneta); ...\n",
      "\n",
      "Tako kot pomnilnik **si tudi trdi tisk lahko predstavljamo kot zaporedje naslovljivih prostor\u010dkov**, dolg seznam vrednosti. Dana\u0161nji trdi diski so velikosti preko tiso\u010d milijard prostor\u010dkov (za \u0161tevilske vrednosti med 0 in 255), tj. 1.000.000.000.000 bajtov = 1 [terabajt](http://sl.wikipedia.org/wiki/Bajt), torej je njihova velikost tiso\u010dkrat ve\u010dja od velikosti dana\u0161njih pomnilnikov."
     ]
    },
    {
     "cell_type": "heading",
     "level": 2,
     "metadata": {},
     "source": [
      "Povezova CPU \u2013 RAM \u2013 I/O"
     ]
    },
    {
     "cell_type": "markdown",
     "metadata": {},
     "source": [
      "Ko za\u017eenemo nek program, ki ga imamo shranjenega nekje na disku (npr. spletni brskalnik, name\u0161\u010den v `C:\\Program Files\\Mozilla\\Firefox\\firefox.exe`), ga operacijski sistem najprej nalo\u017ei (prekopira) v delovni pomnilnik, \u0161ele nato ga iz tam za\u010dne izvajati. Okvirni ukazi na nivoju procesorja so:\n",
      "1. vpi\u0161i na pomnilni\u0161ki naslov, rezerviran za komunikacijo s trdim diskom, naslednje navodilo: _\"preberi N bajtov podatkov iz naslova A1 na disku na naslov A2 v pomnilniku\"_,  \n",
      "   (\u010ce strojna oprema dopu\u0161\u010da neposredni dostop do pomnilka, angl. _DMA_, lahko CPU med prenosom HDD\u2192RAM po\u010dne kaj drugega, npr. osve\u017ei kak drug program, ki se trenutno izvaja. V nasprotnem primeru pa mora procesor na ustrezne naslove sam skopirati vsak bajt posebej.)  \n",
      "2. postavi programski \u0161tevec, ki hrani naslov trenutnega ukaza v programu, na za\u010detek programa (`PC = N + 0`),\n",
      "3. izvedi strojni ukaz na tem naslovu,\n",
      "4. pove\u010daj vrednost programskega \u0161tevca za 1 (`PC = PC + 1`),\n",
      "5. \u010de ni konec programa, se vrni na 3. korak."
     ]
    },
    {
     "cell_type": "heading",
     "level": 2,
     "metadata": {},
     "source": [
      "Primerjava ra\u010dunalnika z naravnimi sistemi"
     ]
    },
    {
     "cell_type": "markdown",
     "metadata": {},
     "source": [
      "Ra\u010dunalni\u0161ki sistem lahko upravi\u010deno primerjamo s \u0161tevilnimi drugimi naravnimi mehanizmi. Verjetno najbolj blizu nam je lahko primerjava s \u010dlove\u0161kim ustrojem:\n",
      "\n",
      "```\n",
      "Na\u0161 um, razum je na\u0161 ________,  \n",
      "na\u0161 ______ je na\u0161 delovni pomnilnik,  \n",
      "na\u0161ih osem \u010dutil (+ glasilke) so na\u0161e ___________,  \n",
      "na\u0161i __________________ na\u0161 trdi disk,  \n",
      "na\u0161i programi pa so vse razli\u010dne osebe, ki so v nas.\n",
      "```"
     ]
    },
    {
     "cell_type": "heading",
     "level": 2,
     "metadata": {},
     "source": [
      "Vpra\u0161anja za utrditev"
     ]
    },
    {
     "cell_type": "markdown",
     "metadata": {},
     "source": [
      "- Katere komponente sestavljajo moderen ra\u010dunalnik in kak\u0161na je njihova vloga?\n",
      "- Ali je [\u010dlovek ra\u010dunalnik](#Kaj-je-ra\u010dunalnik?)? Ali je ra\u010dunalnik \u010dlovek?\n",
      "- Poi\u0161\u010di \u0161e kak drug primer (naravnega) sistema, ki ga lahko razdeli\u0161 na komponente kot ra\u010dunalnik.\n",
      "- Kaj meni\u0161, da je hitreje, [sistem s podporo za DMA](#Povezova-CPU-\u2013-RAM-\u2013-I/O) ali sistem brez?"
     ]
    },
    {
     "cell_type": "heading",
     "level": 1,
     "metadata": {},
     "source": [
      "Kaj je programiranje?"
     ]
    },
    {
     "cell_type": "markdown",
     "metadata": {},
     "source": [
      "[Kot re\u010deno](#Centralna-procesna-enota), procesor samo izvaja programe in tudi najbolj kompleksni programi sestojijo [le iz preprostih ukazov](#Centralna-procesna-enota). In procesor jih izvaja zapovrstno, ukaz za ukazom. **Programiranje je torej ukazovanje procesorju**, kaj naj ra\u010duna.\n",
      "\n",
      "Ampak je programiranje tudi ve\u010d kot to.\n",
      "\n",
      "Programiranje je **poznavanje tehnik in metod re\u0161evanja problemov**, razvijanje algoritmi\u010dnega na\u010dina razmi\u0161ljanja, zmo\u017enost **razgrajevanja problemov na manj\u0161e (pod)probleme**, spoznavaje omejitev ra\u010dunalnikov in njihovega vpliva na dru\u017ebo. V programiranju je zajeta inteligentnost, ustvarjalnost, sodelovanje in timsko delo.\n",
      "\n",
      "Programiranje vklju\u010duje znanja, spretnosti in ve\u0161\u010dine, ki so veliko bolj trajni kot hitro razvijajo\u010de se tehnologije. In ta znanja so neodvisna od posameznih tehnologij, so prenosljiva ter **uporabna na vseh podro\u010djih \u010dlove\u0161kih dejavnosti**. U\u010dencem programiranja bodo koristila tudi pri drugih predmetih in v poznej\u0161em \u017eivljenju. Ta znanja, spretnosti in ve\u0161\u010dine so del digitalne pismenosti v 21. stoletju."
     ]
    },
    {
     "cell_type": "heading",
     "level": 2,
     "metadata": {},
     "source": [
      "Kaj je algoritem?"
     ]
    },
    {
     "cell_type": "markdown",
     "metadata": {},
     "source": [
      "Po definiciji je algoritem nek proces oz. **natan\u010dno zaporedje ukazov, ki jih je potrebno izvesti v kalkulacijah za re\u0161itev dolo\u010denega problema**. Algoritem je torej postopek, na\u010drt izvedbe, tako kot je to pri kuhanju recept. Za razliko od kuhe, kjer enaka jed nima nujno vedno enakega okusa, v\u010dasih pa se tudi prismodi, za algoritme velja, da **pri enakih vhodnih podatkih vedno dobimo enako izhodno re\u0161itev**.\n",
      "\n",
      "Vsak algoritem je natan\u010dno definiran, ko ima:\n",
      "- nata\u010dno opredeljene vhodne podatke (tj. podatke, za katere je predpostavljeno, da so vnaprej znani, da jih algoritem dobi in s katerimi operira),\n",
      "- postopek ali telo algoritma, ki ga tvorijo ukazi, ki jih je dolo\u010dil programer,\n",
      "- opredeljeno re\u0161itev oz. izhodne podatke ali rezultat.\n",
      "\n",
      "Primer algoritma je iskanje najkraj\u0161e poti med dvema krajema, npr. med Ljubljano in vasjo Vinica:\n",
      "\n",
      "Algoritem | iskanje_najkrajse_poti_med_dvemi_kraji\n",
      "--- | ---\n",
      "**Vhodni podatki** | Seznam vseh povezav med kraji, kjer vsako povezavo opisuje troje vrednosti, `(krajA, krajB, razdaljaAB)`, kar pomeni, da je 'krajA' povezan s 'krajB' (in obratno) ter kak\u0161na je razdalja med njima v kilometrih, npr. `[('Ljubljana', 'Brezovica pri Ljubljani', 8.3), ('Ljubljana', 'Lavrica', 9.4), ..., ('Drenovec', 'Vinica', 0.9), ..., ('Novo mesto', 'Mala Cikava', 2.9)]` \u2014 dolg seznam!\n",
      "**Postopek** | ... (Spi\u0161e programer. Tega bomo za za\u010detek izpustili.)\n",
      "**Re\u0161itev** | Urejen seznam povezav med kraji od Ljubljane do Vinice `[('Ljubljana', K2, R1), (K2, K3, R2), ..., (KN, 'Vinica', RN)]`, tako da je vsota razdalj najmanj\u0161a mo\u017ena (K2, R1, K3, R2, ..., KN in RN so za razliko od tega primera v resnici prave, dolo\u010dene vrednosti).\n",
      "\n",
      "Algoritem za iskanje najkraj\u0161ih poti med kraji, ki bi upo\u0161teval \u0161e stanje posameznih cest, vi\u0161inske razlike in morebitne \u017eelene dolo\u010dene vmesne postaje, bi bil toliko bolj kompleksen.\n",
      "\n",
      "\u010ceprav redkeje, [o algoritmih](http://sl.wikipedia.org/wiki/Algoritem) lahko govorimo tudi v navezavi na natan\u010dno definirane postopke v ne-ra\u010dunalni\u0161kih kontekstih. Npr. ali obstaja algoritem, ki re\u0161i problem, kako prepri\u010dati \u017ealostnega prijatelja, da je sre\u010den? Ali obstaja algoritem, kako pri \u0161olskem testu vedno dose\u010di oceno 5?\n",
      "\n",
      "Algoritem | teste_vedno_pisem_pet\n",
      "--- | ---\n",
      "**Vhodni podatki** | Zvezki, u\u010dbeniki, fotokopije zapiskov in u\u010diteljevi izro\u010dki za dolo\u010den \u0161olski predmet.\n",
      "**Postopek** | <ol><li>Dolo\u010dim oz. se pozanimam, katera snov pride v po\u0161tev na testu,</li><li>na hitro preletim vse materiale (zvezki, u\u010dbeniki, zapiski, izro\u010dki), ki jih imam na voljo in ki pokrivajo potrebno snov, ter si dele v zvezku/u\u010dbeniku za la\u017ejo navigacijo ozna\u010dim,</li><li>snov razdelim na enote in si jih uredim nara\u0161\u010dajo\u010de po koli\u010dini razumevanja (npr. najprej bom obdelal snov, ki mi je najmanj jasna; zadnje se bom lotil tistega, kar \u017ee dobro znam),</li><li>preu\u010dujem snov, delam izpiske za la\u017eje pomnjenje in re\u0161ujem primere nalog,</li><li>dokler znanje ni dovolj\u0161nje za oceno 5, ponavljam 4. korak.</li><li>V \u0161olo pridem naspan in pripravljen.</li></ol>\n",
      "**Re\u0161itev** | Test popolnoma re\u0161en in ocenjen 5.\n",
      "\n",
      "O\u010ditno velja, da za isto re\u0161itev problema obstaja ve\u010d algoritmov, ki so si v svojem postopku razli\u010dni, odvisni pa\u010d od \"programerja.\" Algoritme lahko predstavimo tudi vizualno z [diagrami poteka](http://sl.wikipedia.org/wiki/Diagram_poteka).\n",
      "\n",
      "![Diagram poteka postopka pri\u017eiga ra\u010dunalnika](files/diagram_poteka.png)"
     ]
    },
    {
     "cell_type": "heading",
     "level": 2,
     "metadata": {},
     "source": [
      "Kaj je programski jezik?"
     ]
    },
    {
     "cell_type": "markdown",
     "metadata": {},
     "source": [
      "Ko programer narekuje ra\u010dunalniku, mora to po\u010deti v nekem ra\u010dunalniku-razumljivem jeziku. Ali ra\u010dunalnik zna slovensko? Ali pa morda zna angle\u0161ko? \u010ceprav se kdaj zdi obratno, ra\u010dunalniki ne znajo _naravnega jezika_, ki ga govorimo ljudje. Poznajo ga, a navodil (\u0161e) ne sprejemajo v njem. Jeziku, s katerim programer narekuje ra\u010dunalniku, pravimo _programski jezik_.\n",
      "\n",
      "Obstaja [veliko programskih jezikov](http://en.wikipedia.org/wiki/List_of_programming_languages) in \u010detudi za dobre programerje velja, da obvladajo vsaj tri programske jezike, je za popolno kontrolo nad ra\u010dunalnikom za za\u010detek potrebno poznati vsaj enega. Relativna popularnost programskih jezikov je predstavljena na spodnji sliki.\n",
      "\n",
      "[![Programski jeziki urejeni po padajo\u010di popularnosti: C, Java, PHP, JavaScript, C++, Python, Shell, Ruby, Objective-C, C#, zbirnik, SQL, ...](files/popularnost_programskih_jezikov.png)](http://langpop.com/)\n",
      "\n",
      "Programske jezike lahko po lastnostih delimo v razli\u010dne skupine: glede na na\u010din izvajanja v prevedene in interpretirane jezike, glede na obravnavanje tipov v \u0161ibko-, mo\u010dno-, stati\u010dno- in dinami\u010dno-tipizirane jezike, glede na postopek pisanja programa na imperativne in deklarativne jezike, na funkcijske in ne-funkcijske jezike, na podatkovno- in dogodkovno-vodene, glede na svoj abstrakcijski nivo na nizkonivojske, visokonivojske, in domensko-specifi\u010dne jezike, ... Ve\u010d o tem naj zainteresiran bralec poi\u0161\u010de drugje."
     ]
    },
    {
     "cell_type": "heading",
     "level": 3,
     "metadata": {},
     "source": [
      "Sintaksa jezika"
     ]
    },
    {
     "cell_type": "markdown",
     "metadata": {},
     "source": [
      "Programski jeziki imajo ponavadi natan\u010dno definirano _sintakso_ ali _slovnico_ ali _gramatiko_ jezika. Sintaksa jezika enoli\u010dno dolo\u010da obliko dovoljenih izrazov v jeziku oz. kako posamezni elementi jezika (npr. besede, \u0161tevila, lo\u010dila) pa\u0161ejo skupaj in tvorijo vi\u0161je strukture (npr. stavke). **Sintaksa jezika torej obravnava mo\u017ene kombinacije znakov in drugih elemetov jezika ter njihov medsebojni odnos** ne glede na pomen teh kombinacij, ko preu\u010dujemo pomen kombinacij simbolov, pa govorimo o _semantiki_.\n",
      "\n",
      "Kadar nam prevajalnik ali interpreter vrneta poro\u010dilo \"sintaksna/skladenjska napaka\" (angl. \"Syntax Error\"), vemo, da smo nekje vpisali besedo ali lo\u010dilo preve\u010d ali premalo.\n",
      "\n",
      "Osnovni gradniki ve\u010dine programskih jezikov so tipi\u010dno:\n",
      "- **_klju\u010dne besede_**, ki so rezervirane besede, ki vplivajo na _kontrolni tok_ (potek izvajanja) programa, in so del same specifikacije jezika (npr. klju\u010dne besede za vejitve (`if`, `then`, `else` itd.), besede za zanke (`while`, `for`, `until` itd.), besede za dolo\u010ditev novega tipa (`def`, `class`, `function`, itd.) ipd.),\n",
      "- **_identifikatorji_** ali _simboli_, ki predstavljajo poimenovane spremenljivke, funkcije, procedure, metode, tipe, in so obi\u010dajno sestavljeni iz \u010drke angle\u0161ke abecede, \u0161tevilk in pod\u010drtaja (`_`),\n",
      "- vrednosti ali **_atomi_**, ki predstavljajo absolutno vrednost, npr. \u0161tevilo `2.718`, besedilo `'besedilo`' itd.,\n",
      "- lo\u010dila ali **_operatorji_**, ki predstavljajo operacije, npr. `+` (se\u0161tevanje, dodajanje), `-` (od\u0161tevanje), `*` (mno\u017eenje), `/` (deljenje), `[index]` (iskanje po indeksu), `!` (negacija), ipd.,\n",
      "- **_komentarji_**, ki so namenjeni izklju\u010dno programerju, ki bere kodo, da jo lahko la\u017eje razume, ra\u010dunalnik pa jih presko\u010di.\n",
      "\n",
      "Prakti\u010den primer na kratkem Python programu:"
     ]
    },
    {
     "cell_type": "code",
     "collapsed": false,
     "input": [
      "# Vse za '#' znakom v vrstici predstavlja komentar\n",
      "\n",
      "# V spodnjem programu so:\n",
      "# - klju\u010dne besede: def, for, in, if, else, return,\n",
      "# - identifikatorji: jecljaj, stavek, jecljan_stavek, beseda,\n",
      "#   split, len, predpona, append, lower, join,\n",
      "# - atomi: [], 3, 2, 1, '-', ' ',\n",
      "# - operatorji: (), . (pika), >, =, [], +,\n",
      "# - komentarji: vse za lojtro v vrstici.\n",
      "\n",
      "def jecljaj(stavek):       # 'def' nakazuje za\u010detek funkcije, 'jecljaj' je njeno ime\n",
      "    jecljan_stavek = []    # 'jecljan_stavek' nastavimo na prazen seznam\n",
      "    for beseda in stavek.split():    # za vsako besedo v stavku\n",
      "        if len(beseda) > 4:          # \u010de je njena dol\u017eina ve\u010d kot 4\n",
      "            predpona = beseda[:2]    # nastavimo predpono na prvi dve \u010drki besede\n",
      "        else:                        # sicer (\u010de je dol\u017eina besede manj ali enako 3) pa\n",
      "            predpona = beseda[:1]    # naj bo predpona le prva \u010drka besede\n",
      "        jecljan_stavek.append(predpona + '-' + beseda.lower()) # dodamo besedo s predpono v seznam\n",
      "    return ' '.join(jecljan_stavek)  # vrnimo \"popravljene\" besede zdru\u017eene v besedilo\n",
      "\n",
      "# primer:\n",
      "jecljaj('Danes je lep dan, pojdimo plavat!')"
     ],
     "language": "python",
     "metadata": {},
     "outputs": [
      {
       "metadata": {},
       "output_type": "pyout",
       "prompt_number": 22,
       "text": [
        "u'Da-danes j-je l-lep d-dan, po-pojdimo pl-plavat!'"
       ]
      }
     ],
     "prompt_number": 22
    },
    {
     "cell_type": "markdown",
     "metadata": {},
     "source": [
      "Ve\u010d [o sintaksi programskih jezikov](http://sl.wikipedia.org/wiki/Programski_jezik#Sintaksa_.28skladnja.2Fslovnica.29) na Wikipedii."
     ]
    },
    {
     "cell_type": "heading",
     "level": 3,
     "metadata": {},
     "source": [
      "Standardna knji\u017enica"
     ]
    },
    {
     "cell_type": "markdown",
     "metadata": {},
     "source": [
      "Programska knji\u017enica pravimo zbirki \u017ee pripravljenih generi\u010dnih, splo\u0161nih podprogramov oz. funkcij, ki jih uporabimo pri razvoju na\u0161e programske opreme. Ve\u010dina sodobnih operacijskih sistemov se za velik del sistemskih opravil zana\u0161a na knji\u017enice in skoraj vsa koda, ki jo uporabljajo sodobni programi, je zapisana v knji\u017enicah.\n",
      "\n",
      "Ve\u010dina programskih jezikov ima pridru\u017eeno _standardno knji\u017enico_, ki tipi\u010dno **vsebuje definicije za splo\u0161no uporabne algoritme, podatkovne strukture in mehanizme za vhod in izhod** (input/output). \u010ce \u017eelimo npr. premikati datoteke po disku, \u010de \u017eelimo brati XML zapis, \u010de \u017eelimo programatsko obdelovati slike, \u010de \u017eelimo poslati zahtevke v internet, \u010de \u017eelimo komunicirati z drugim procesom (proces je izvajajo\u010di-se program) ali operacijskim sistemom, \u010de \u017eelimo programatsko poslati e-mail sporo\u010dilo, \u010de \u017eelimo prikazati pogovorno okno z obvestilom, za vse to in \u0161e ve\u010d lahko uporabimo standarno knji\u017enico ali ostale knji\u017enice, ki jih namestimo lo\u010deno.\n",
      "\n",
      "**Kar \u017eelimo lahko obi\u010dajno dose\u017eemo s pomo\u010djo klica ustrezne funkcije v ustrezni knji\u017enici** in nam tako ni treba na svojo pest implementirati potrebne funkcionalnosti, zagotavljati njene pravilnosti, optimizacije itd., ker so to za nas storili drugi."
     ]
    },
    {
     "cell_type": "heading",
     "level": 3,
     "metadata": {},
     "source": [
      "Prevedeni programski jeziki"
     ]
    },
    {
     "cell_type": "markdown",
     "metadata": {},
     "source": [
      "Programi v dolo\u010denih programskih jezikih, kot so C, C++, Objective-C, D, Go, Haskell ipd., so iz \u010dloveku-berljive izvorne kode (slika A) preko nizkonivojskega [_zbirnega jezika_](http://sl.wikipedia.org/wiki/Zbirni_jezik) (slika B) prevedeni v strojno kodo, ki se potem izvaja direktno na procesorju (tj. tistih nekaj ukazov, ki smo jih omenili pri [obravnavi CPU](#Centralna-procesna-enota)).\n",
      "\n",
      "![A) izvorna koda preprostega C programa; B) isti program v x86 zbirniku](files/zbirnik.svg)\n",
      "\n",
      "To prevedbo obi\u010dajno v ve\u010d stopnjah opravi program, ki mu re\u010demo _prevajalnik_ (angl. _compiler_).\n",
      "\n",
      "Prevajalnik med prevedbo opravi tudi vrsto optimizacij, ki naredijo program, ki se na koncu izvede, **izjemno hiter** (spomnimo se: \u010detudi program v zbirniku, ki zelo dobro odra\u017ea strojno kodo, izgleda dalj\u0161i, se te ukazi izvajajo [zelo hitro](#Centralna-procesna-enota) \u2013 stotine milijard na sekundo). Prevajalnik izvorno kodo programa pripravi tako, da jo tar\u010dni operacijski sistem zna izvajati brez nadaljnje pomo\u010di prevajalnika. Z drugimi besedami, ko program uspe\u0161no prevedemo, za zaganjanje prevajalnik ni ve\u010d potreben."
     ]
    },
    {
     "cell_type": "heading",
     "level": 3,
     "metadata": {},
     "source": [
      "Interpretirani (skriptni) jeziki"
     ]
    },
    {
     "cell_type": "markdown",
     "metadata": {},
     "source": [
      "Za razliko od prevedenih programskih jezikov za izvajanje interpretiranih jezikov potrebujemo program, ki mu pravimo _interpreter_. To pomeni, da \u010de \u017eelimo, da na\u0161 program v enem od interpretiranih jezikov, deluje tudi na drugem ra\u010dunalniku, moramo na ta ra\u010dunalnik najprej namestiti interpreter. Primeri interpreterjev so:\n",
      "- Oracle JRE in OpenJRE za programski jezik Java,\n",
      "- CPython, PyPy, Jython in IronPython za programski jezik Python,\n",
      "- .NET Framework in Mono za programski jezik C#,\n",
      "- vsak spletni brskalnik ima svoj [interpreter za jezik JavaScript](http://en.wikipedia.org/wiki/JavaScript_engine#Active_projects),\n",
      "- `bash`, ki te\u010de znotraj terminalskega okna v Unix operacijskih sistemih, je primer interpreterja za jezik Shell, ...\n",
      "\n",
      "Interpreter programskega jezika opravlja podobno funkcijo kot prevajalnik, le da na koncu ne \"izpljune\" strojne kode, ki bi jo izvedel procesor, temve\u010d sam interpreter simulira izvajanje programa ukaz za ukazom. Zato so programi pisani v interpretiranih jezikih obi\u010dajno nekoliko po\u010dasnej\u0161i (opazno pri zahtevnih ra\u010dunskih operacijah), je pa v njih mogo\u010de programe hitreje razvijati, saj so bolj enostavni, bolj varni in programerju ni potrebno paziti na vse podrobnosti operacijskega sistema, za katerega razvija program.\n",
      "\n",
      "V\u010dasih interpretiranim jezikom pravimo tudi skriptni jeziki, saj je veljalo, da je z njimi mogo\u010de pisate kratke programe za poenostavljanje opravil (skripte). Danes je popularnost interpretiranih jezikov v porastu, v njih razvijamo tudi najbolj kompleksne aplikacije, meja med interpretiranjem in prevajanjem programov pa se tanj\u0161a."
     ]
    },
    {
     "cell_type": "heading",
     "level": 3,
     "metadata": {},
     "source": [
      "Proces programiranja"
     ]
    },
    {
     "cell_type": "markdown",
     "metadata": {},
     "source": [
      "Proces programiranja navadno sestoji iz:\n",
      "- pisanja programa, obi\u010dajno v nek ustrezen [urejevalnik izvorne kode](http://geany.org/),\n",
      "- prevajanja programa (ni nujno pri interpretiranih jezikih),\n",
      "- zaganjanja (testiranja) programa, in\n",
      "- odpravljanja \"hro\u0161\u010dev\" (ne\u017eelenih napak) ali razhro\u0161\u010devanja (angl. _debugging_), ki vklju\u010duje dolo\u010danje napake in zakaj do nje pride ter odpravljanje le-te (npr. s prepisovanjem kode kako druga\u010de, z iskanjem alternativnih re\u0161itev na internetu)."
     ]
    },
    {
     "cell_type": "heading",
     "level": 2,
     "metadata": {},
     "source": [
      "Vpra\u0161anja za utrditev"
     ]
    },
    {
     "cell_type": "markdown",
     "metadata": {},
     "source": [
      "- Kaj je algoritem?\n",
      "- Na\u0161tej tri algoritme, ki niso povezani z ra\u010dunalni\u0161tvom.\n",
      "- Kak\u0161na je razlika med sintakso in semantiko?\n",
      "- \u010ce je program sintaksno pravilen, ali to pomeni, da deluje pravilno?\n",
      "- Kaj je standardna knji\u017enica?\n",
      "- Kak\u0161na je razlika med prevedenimi in interpretiranimi jeziki? Prednosti in slabosti posameznih?"
     ]
    },
    {
     "cell_type": "heading",
     "level": 1,
     "metadata": {},
     "source": [
      "Programski jezik Python"
     ]
    },
    {
     "cell_type": "markdown",
     "metadata": {},
     "source": [
      "Nau\u010dili se bomo programskega jezika Python. Python je nov, aktualen, lahek za u\u010denje in izredno berljiv [interpretiran][skriptni] programski jezik z bogato [standardno knji\u017enico](#Standardna-knji\u017enica), s pomo\u010djo katere je mogo\u010de izjemno hitro narediti relativno kompleksne programe z veliko funkcionalnosti.\n",
      "[skriptni]: #Interpretirani-(skriptni)-jeziki\n",
      "Python ima tudi \u0161iroko skupnost uporabnikov, ki ljubijo jezik:\n",
      "- veliko vpra\u0161anj na [StackOverflow](http://stackoverflow.com/questions/tagged/python) strani, kjer programerji postavljajo vpra\u0161anja (drugi pa na njih odgovarjajo in glasujejo za najbolj\u0161i odgovor),\n",
      "- [#python IRC kanal](http://webchat.freenode.net?channels=%23python%2C%23python.si) na FreeNode-u, kjer je v vsakem trenutku prisotnih nekih 1500 uporabnikov,\n",
      "- Python je eden glavnih infrastrukturnih jezikov v GNU/Linux sistemih,\n",
      "- zelo [popularen pri organizacijah](https://wiki.python.org/moin/OrganizationsUsingPython) kot so Google, Yahoo, NASA, Nokia, IBM, CIA in mnoge druge.\n",
      "\n",
      "V Pythonu so napisani ali ga uporabljajo [\u0161tevilni programi](http://en.wikipedia.org/wiki/List_of_Python_software). Za jezikom Python stoji globoka filozofija, _The Zen of Python_, ki nam jo poda `this` modul.\n",
      "\n",
      "Python pride v dveh okusih: Python 2 in Python 3. Python 2 je v resnici Python 2.7.x, ki je \u0161e vedno de-facto privzeti python interpreter v skoraj vseh okoljih. Python 3.x je izpopolnjena naslednja razli\u010dica, ki pa je zaradi [nekaj korenitih sprememb](http://nbviewer.ipython.org/github/rasbt/python_reference/blob/master/tutorials/key_differences_between_python_2_and_3.ipynb) nekompatibilna s kodo pisano za Python 2.\n",
      "\n",
      "\u010ceprav je presek obeh verzij velik, se bomo po tem u\u010dbeniku nau\u010dili jezika Python, ki je kompatibilen predvsem z razli\u010dico Python 3."
     ]
    },
    {
     "cell_type": "heading",
     "level": 2,
     "metadata": {},
     "source": [
      "Namestitev Python interpreterja"
     ]
    },
    {
     "cell_type": "markdown",
     "metadata": {},
     "source": [
      "Po tem vodi\u010du bomo potrebovali IPython3 interpreter."
     ]
    },
    {
     "cell_type": "heading",
     "level": 3,
     "metadata": {},
     "source": [
      "GNU/Linux"
     ]
    },
    {
     "cell_type": "markdown",
     "metadata": {},
     "source": [
      "Python je na ve\u010dini GNU/Linux sistemov \u017ee predname\u0161\u010den. Da bi vseeno imeli vse potrebno za ta u\u010dbenik, namestite naslednje pakete: `python3, ipython3, ipython3-notebook, python3-pip`.\n",
      "\n",
      "Odprite terminalsko okno, vpi\u0161ite `python3` in pritisnite Enter. \u010ce je vse prav, bi vas moral pozdraviti Python interpreter."
     ]
    },
    {
     "cell_type": "heading",
     "level": 3,
     "metadata": {},
     "source": [
      "Windows"
     ]
    },
    {
     "cell_type": "markdown",
     "metadata": {},
     "source": [
      "V operacijskih sistemih Windows, ki so namenjeni bedakom, je skoraj nemogo\u010da karkoli uporabnega razvijati. Najla\u017eji na\u010din za namestitev Python interpreterja v Windows okoljih je preko zbirke Anaconda, razli\u010dica Miniconda. Najprej namestite [Miniconda](http://conda.pydata.org/miniconda.html) (Python 3.4 verzijo), nato odprite Windows program `cmd.exe` in vpi\u0161ite: `conda install ipython`."
     ]
    },
    {
     "cell_type": "heading",
     "level": 3,
     "metadata": {},
     "source": [
      "OS X"
     ]
    },
    {
     "cell_type": "markdown",
     "metadata": {},
     "source": [
      "TODO"
     ]
    },
    {
     "cell_type": "heading",
     "level": 2,
     "metadata": {},
     "source": [
      "IPython in IPython Notebook"
     ]
    },
    {
     "cell_type": "markdown",
     "metadata": {},
     "source": []
    }
   ],
   "metadata": {}
  }
 ]
}